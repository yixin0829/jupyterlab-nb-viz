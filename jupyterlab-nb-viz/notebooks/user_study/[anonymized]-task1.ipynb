{
 "cells": [
  {
   "cell_type": "code",
   "execution_count": 8,
   "metadata": {},
   "outputs": [],
   "source": [
    "# import packages\n",
    "import pandas as pd\n",
    "import seaborn as sns\n",
    "import plotly.express as px\n",
    "import plotly.graph_objects as go\n",
    "import matplotlib.pyplot as plt\n",
    "import numpy as np\n",
    "\n",
    "# other installed packages: scipy, scikit-learn, statsmodels"
   ]
  },
  {
   "cell_type": "code",
   "execution_count": 9,
   "metadata": {},
   "outputs": [],
   "source": [
    "# read dataset\n",
    "df = pd.read_csv('../datasets/1-ibm-hr.csv')"
   ]
  },
  {
   "cell_type": "code",
   "execution_count": 10,
   "metadata": {},
   "outputs": [],
   "source": [
    "# split categorical and numerical columns (except Attrition)\n",
    "\n",
    "# categorical columns: Attrition, BusinessTravel, Department, EducationField, Gender, MaritalStatus, Over18, OverTime\n",
    "categorical_columns = ['BusinessTravel', 'Department', 'EducationField', 'Gender', 'JobRole', 'MaritalStatus', 'Over18', 'OverTime']\n",
    "categorical= df.select_dtypes(include= \"object\") \n",
    "\n",
    "# integer values with categorical meanings:\n",
    "int_categorical_columns = ['Education', 'EnvironmentSatisfaction', 'JobInvolvement', 'JobSatisfaction', 'PerformanceRating', 'RelationshipSatisfaction', 'WorkLifeBalance', 'JobLevel', 'StockOptionLevel']\n",
    "int_categorical = df[int_categorical_columns]\n",
    "\n",
    "# numerical columns\n",
    "numerical_columns = ['Age', 'DailyRate', 'DistanceFromHome', 'EmployeeCount', 'EmployeeNumber', 'HourlyRate', 'MonthlyIncome', 'MonthlyRate', 'NumCompaniesWorked', 'PercentSalaryHike', 'StandardHours', 'TotalWorkingYears', 'TrainingTimesLastYear', 'YearsAtCompany', 'YearsInCurrentRole', 'YearsSinceLastPromotion', 'YearsWithCurrManager']\n",
    "numerical = df[numerical_columns]\n",
    "\n",
    "target_column = 'Attrition'"
   ]
  },
  {
   "cell_type": "code",
   "execution_count": 11,
   "metadata": {
    "tags": []
   },
   "outputs": [],
   "source": [
    "# Your task: your manager asks you to figure out the factors contributing to employees’ attrition (the “Attrition” column), \n",
    "#   please conduct Exploratory Data Analysis (EDA) for this task with the help of Tangerine.\n",
    "# start your analysis here"
   ]
  },
  {
   "cell_type": "code",
   "execution_count": 12,
   "metadata": {
    "tags": []
   },
   "outputs": [
    {
     "data": {
      "text/plain": [
       "(1470, 9)"
      ]
     },
     "execution_count": 12,
     "metadata": {},
     "output_type": "execute_result"
    }
   ],
   "source": [
    "categorical.shape"
   ]
  },
  {
   "cell_type": "code",
   "execution_count": 13,
   "metadata": {
    "tags": []
   },
   "outputs": [
    {
     "data": {
      "text/html": [
       "<div>\n",
       "<style scoped>\n",
       "    .dataframe tbody tr th:only-of-type {\n",
       "        vertical-align: middle;\n",
       "    }\n",
       "\n",
       "    .dataframe tbody tr th {\n",
       "        vertical-align: top;\n",
       "    }\n",
       "\n",
       "    .dataframe thead th {\n",
       "        text-align: right;\n",
       "    }\n",
       "</style>\n",
       "<table border=\"1\" class=\"dataframe\">\n",
       "  <thead>\n",
       "    <tr style=\"text-align: right;\">\n",
       "      <th></th>\n",
       "      <th>Education</th>\n",
       "      <th>EnvironmentSatisfaction</th>\n",
       "      <th>JobInvolvement</th>\n",
       "      <th>JobSatisfaction</th>\n",
       "      <th>PerformanceRating</th>\n",
       "      <th>RelationshipSatisfaction</th>\n",
       "      <th>WorkLifeBalance</th>\n",
       "      <th>JobLevel</th>\n",
       "      <th>StockOptionLevel</th>\n",
       "    </tr>\n",
       "  </thead>\n",
       "  <tbody>\n",
       "    <tr>\n",
       "      <th>0</th>\n",
       "      <td>2</td>\n",
       "      <td>2</td>\n",
       "      <td>3</td>\n",
       "      <td>4</td>\n",
       "      <td>3</td>\n",
       "      <td>1</td>\n",
       "      <td>1</td>\n",
       "      <td>2</td>\n",
       "      <td>0</td>\n",
       "    </tr>\n",
       "    <tr>\n",
       "      <th>1</th>\n",
       "      <td>1</td>\n",
       "      <td>3</td>\n",
       "      <td>2</td>\n",
       "      <td>2</td>\n",
       "      <td>4</td>\n",
       "      <td>4</td>\n",
       "      <td>3</td>\n",
       "      <td>2</td>\n",
       "      <td>1</td>\n",
       "    </tr>\n",
       "    <tr>\n",
       "      <th>2</th>\n",
       "      <td>2</td>\n",
       "      <td>4</td>\n",
       "      <td>2</td>\n",
       "      <td>3</td>\n",
       "      <td>3</td>\n",
       "      <td>2</td>\n",
       "      <td>3</td>\n",
       "      <td>1</td>\n",
       "      <td>0</td>\n",
       "    </tr>\n",
       "    <tr>\n",
       "      <th>3</th>\n",
       "      <td>4</td>\n",
       "      <td>4</td>\n",
       "      <td>3</td>\n",
       "      <td>3</td>\n",
       "      <td>3</td>\n",
       "      <td>3</td>\n",
       "      <td>3</td>\n",
       "      <td>1</td>\n",
       "      <td>0</td>\n",
       "    </tr>\n",
       "    <tr>\n",
       "      <th>4</th>\n",
       "      <td>1</td>\n",
       "      <td>1</td>\n",
       "      <td>3</td>\n",
       "      <td>2</td>\n",
       "      <td>3</td>\n",
       "      <td>4</td>\n",
       "      <td>3</td>\n",
       "      <td>1</td>\n",
       "      <td>1</td>\n",
       "    </tr>\n",
       "  </tbody>\n",
       "</table>\n",
       "</div>"
      ],
      "text/plain": [
       "   Education  EnvironmentSatisfaction  JobInvolvement  JobSatisfaction  \\\n",
       "0          2                        2               3                4   \n",
       "1          1                        3               2                2   \n",
       "2          2                        4               2                3   \n",
       "3          4                        4               3                3   \n",
       "4          1                        1               3                2   \n",
       "\n",
       "   PerformanceRating  RelationshipSatisfaction  WorkLifeBalance  JobLevel  \\\n",
       "0                  3                         1                1         2   \n",
       "1                  4                         4                3         2   \n",
       "2                  3                         2                3         1   \n",
       "3                  3                         3                3         1   \n",
       "4                  3                         4                3         1   \n",
       "\n",
       "   StockOptionLevel  \n",
       "0                 0  \n",
       "1                 1  \n",
       "2                 0  \n",
       "3                 0  \n",
       "4                 1  "
      ]
     },
     "execution_count": 13,
     "metadata": {},
     "output_type": "execute_result"
    }
   ],
   "source": [
    "int_categorical.head()"
   ]
  },
  {
   "cell_type": "code",
   "execution_count": 16,
   "metadata": {},
   "outputs": [
    {
     "name": "stdout",
     "output_type": "stream",
     "text": [
      "Warning: Maximum number of iterations has been exceeded.\n",
      "         Current function value: 0.263150\n",
      "         Iterations: 35\n"
     ]
    },
    {
     "name": "stderr",
     "output_type": "stream",
     "text": [
      "/fs1/eecg/shuruizgrp/liuenmen/miniconda3/envs/tangerine-nb-kernel/lib/python3.11/site-packages/statsmodels/base/model.py:607: ConvergenceWarning: Maximum Likelihood optimization failed to converge. Check mle_retvals\n",
      "  warnings.warn(\"Maximum Likelihood optimization failed to \"\n"
     ]
    },
    {
     "name": "stdout",
     "output_type": "stream",
     "text": [
      "                           Logit Regression Results                           \n",
      "==============================================================================\n",
      "Dep. Variable:              Attrition   No. Observations:                 1470\n",
      "Model:                          Logit   Df Residuals:                     1406\n",
      "Method:                           MLE   Df Model:                           63\n",
      "Date:                Tue, 22 Aug 2023   Pseudo R-squ.:                  0.4042\n",
      "Time:                        14:34:47   Log-Likelihood:                -386.83\n",
      "converged:                      False   LL-Null:                       -649.29\n",
      "Covariance Type:            nonrobust   LLR p-value:                 4.807e-74\n",
      "=====================================================================================================\n",
      "                                        coef    std err          z      P>|z|      [0.025      0.975]\n",
      "-----------------------------------------------------------------------------------------------------\n",
      "Age                                  -0.0312      0.014     -2.163      0.031      -0.060      -0.003\n",
      "DailyRate                            -0.0004      0.000     -1.906      0.057      -0.001    1.27e-05\n",
      "DistanceFromHome                      0.0557      0.012      4.792      0.000       0.033       0.078\n",
      "EmployeeCount                        -0.0024   6.61e+06  -3.69e-10      1.000    -1.3e+07     1.3e+07\n",
      "EmployeeNumber                       -0.0002      0.000     -1.277      0.202      -0.001       0.000\n",
      "HourlyRate                            0.0046      0.005      0.965      0.334      -0.005       0.014\n",
      "MonthlyIncome                        -0.0001   9.56e-05     -1.313      0.189      -0.000    6.19e-05\n",
      "MonthlyRate                         1.14e-05   1.33e-05      0.857      0.392   -1.47e-05    3.75e-05\n",
      "NumCompaniesWorked                    0.2104      0.042      5.055      0.000       0.129       0.292\n",
      "PercentSalaryHike                    -0.0232      0.041     -0.561      0.575      -0.105       0.058\n",
      "StandardHours                        -0.1948   8.26e+04  -2.36e-06      1.000   -1.62e+05    1.62e+05\n",
      "TotalWorkingYears                    -0.0593      0.031     -1.911      0.056      -0.120       0.002\n",
      "TrainingTimesLastYear                -0.1900      0.077     -2.479      0.013      -0.340      -0.040\n",
      "YearsAtCompany                        0.1025      0.043      2.390      0.017       0.018       0.187\n",
      "YearsInCurrentRole                   -0.1457      0.052     -2.801      0.005      -0.248      -0.044\n",
      "YearsSinceLastPromotion               0.1751      0.046      3.797      0.000       0.085       0.265\n",
      "YearsWithCurrManager                 -0.1569      0.051     -3.093      0.002      -0.256      -0.057\n",
      "BusinessTravel_Travel_Frequently      2.1445      0.447      4.803      0.000       1.269       3.020\n",
      "BusinessTravel_Travel_Rarely          1.1345      0.412      2.752      0.006       0.327       1.942\n",
      "Department_Research & Development    19.6898   1.35e+04      0.001      0.999   -2.64e+04    2.64e+04\n",
      "Department_Sales                     18.8403   1.35e+04      0.001      0.999   -2.64e+04    2.64e+04\n",
      "EducationField_Life Sciences         -1.1683      0.891     -1.311      0.190      -2.915       0.579\n",
      "EducationField_Marketing             -0.6305      0.936     -0.674      0.501      -2.465       1.204\n",
      "EducationField_Medical               -1.1622      0.890     -1.306      0.191      -2.906       0.582\n",
      "EducationField_Other                 -1.0231      0.962     -1.064      0.288      -2.908       0.862\n",
      "EducationField_Technical Degree       0.0090      0.904      0.010      0.992      -1.762       1.780\n",
      "Gender_Male                           0.4459      0.197      2.267      0.023       0.060       0.831\n",
      "JobRole_Human Resources              20.0626   1.35e+04      0.001      0.999   -2.64e+04    2.64e+04\n",
      "JobRole_Laboratory Technician         0.6129      0.612      1.002      0.316      -0.586       1.812\n",
      "JobRole_Manager                      -0.2516      1.112     -0.226      0.821      -2.432       1.929\n",
      "JobRole_Manufacturing Director        0.4829      0.566      0.853      0.394      -0.627       1.592\n",
      "JobRole_Research Director            -2.0173      1.178     -1.713      0.087      -4.326       0.291\n",
      "JobRole_Research Scientist           -0.5356      0.634     -0.845      0.398      -1.779       0.707\n",
      "JobRole_Sales Executive               2.2012      1.293      1.703      0.089      -0.332       4.734\n",
      "JobRole_Sales Representative          1.9410      1.374      1.412      0.158      -0.753       4.635\n",
      "MaritalStatus_Married                 0.3240      0.290      1.116      0.265      -0.245       0.893\n",
      "MaritalStatus_Single                  0.6540      0.416      1.571      0.116      -0.162       1.470\n",
      "OverTime_Yes                          2.1920      0.212     10.336      0.000       1.776       2.608\n",
      "Education_2                           0.2535      0.349      0.726      0.468      -0.430       0.937\n",
      "Education_3                           0.2495      0.306      0.815      0.415      -0.350       0.849\n",
      "Education_4                           0.2802      0.335      0.837      0.402      -0.376       0.936\n",
      "Education_5                           0.2057      0.634      0.325      0.746      -1.037       1.448\n",
      "EnvironmentSatisfaction_2            -1.1088      0.296     -3.746      0.000      -1.689      -0.529\n",
      "EnvironmentSatisfaction_3            -1.2394      0.272     -4.558      0.000      -1.772      -0.706\n",
      "EnvironmentSatisfaction_4            -1.4363      0.274     -5.241      0.000      -1.973      -0.899\n",
      "JobInvolvement_2                     -1.2839      0.380     -3.383      0.001      -2.028      -0.540\n",
      "JobInvolvement_3                     -1.5756      0.358     -4.404      0.000      -2.277      -0.874\n",
      "JobInvolvement_4                     -2.2040      0.493     -4.472      0.000      -3.170      -1.238\n",
      "JobSatisfaction_2                    -0.6570      0.288     -2.280      0.023      -1.222      -0.092\n",
      "JobSatisfaction_3                    -0.6549      0.257     -2.550      0.011      -1.158      -0.152\n",
      "JobSatisfaction_4                    -1.2958      0.273     -4.746      0.000      -1.831      -0.761\n",
      "PerformanceRating_4                   0.0920      0.425      0.216      0.829      -0.741       0.925\n",
      "RelationshipSatisfaction_2           -0.9411      0.306     -3.078      0.002      -1.540      -0.342\n",
      "RelationshipSatisfaction_3           -1.0182      0.271     -3.761      0.000      -1.549      -0.488\n",
      "RelationshipSatisfaction_4           -1.0257      0.270     -3.802      0.000      -1.554      -0.497\n",
      "WorkLifeBalance_2                    -0.9649      0.394     -2.451      0.014      -1.737      -0.193\n",
      "WorkLifeBalance_3                    -1.4949      0.370     -4.036      0.000      -2.221      -0.769\n",
      "WorkLifeBalance_4                    -1.0756      0.447     -2.405      0.016      -1.952      -0.199\n",
      "JobLevel_2                           -1.5874      0.483     -3.288      0.001      -2.534      -0.641\n",
      "JobLevel_3                            0.1325      0.740      0.179      0.858      -1.319       1.584\n",
      "JobLevel_4                           -0.7757      1.277     -0.607      0.544      -3.279       1.727\n",
      "JobLevel_5                            2.2931      1.672      1.372      0.170      -0.983       5.570\n",
      "StockOptionLevel_1                   -1.1381      0.329     -3.464      0.001      -1.782      -0.494\n",
      "StockOptionLevel_2                   -1.0657      0.457     -2.332      0.020      -1.961      -0.170\n",
      "StockOptionLevel_3                   -0.3075      0.489     -0.628      0.530      -1.267       0.652\n",
      "=====================================================================================================\n"
     ]
    }
   ],
   "source": [
    "# logistic regression with statsmodels\n",
    "import statsmodels.api as sm\n",
    "all_categorical_columns = categorical_columns + int_categorical_columns\n",
    "df_no_attrition = df.drop('Attrition', axis=1)\n",
    "df_dummies = pd.get_dummies(df_no_attrition, columns=all_categorical_columns, drop_first=True)\n",
    "X = df_dummies\n",
    "y = df['Attrition'].replace(to_replace=['No', 'Yes'], value=[0, 1])\n",
    "X = sm.add_constant(X)\n",
    "# X_train, X_test, y_train, y_test = train_test_split(X, y, test_size=0.3, random_state=42, stratify=y)\n",
    "model = sm.Logit(y, X).fit()\n",
    "print(model.summary())"
   ]
  },
  {
   "cell_type": "code",
   "execution_count": 21,
   "metadata": {
    "tags": []
   },
   "outputs": [
    {
     "data": {
      "text/html": [
       "<div>\n",
       "<style scoped>\n",
       "    .dataframe tbody tr th:only-of-type {\n",
       "        vertical-align: middle;\n",
       "    }\n",
       "\n",
       "    .dataframe tbody tr th {\n",
       "        vertical-align: top;\n",
       "    }\n",
       "\n",
       "    .dataframe thead th {\n",
       "        text-align: right;\n",
       "    }\n",
       "</style>\n",
       "<table border=\"1\" class=\"dataframe\">\n",
       "  <thead>\n",
       "    <tr style=\"text-align: right;\">\n",
       "      <th></th>\n",
       "      <th>Attrition</th>\n",
       "      <th>Percent</th>\n",
       "    </tr>\n",
       "  </thead>\n",
       "  <tbody>\n",
       "    <tr>\n",
       "      <th>1</th>\n",
       "      <td>Former Employees</td>\n",
       "      <td>16.12</td>\n",
       "    </tr>\n",
       "    <tr>\n",
       "      <th>0</th>\n",
       "      <td>Current Employees</td>\n",
       "      <td>83.88</td>\n",
       "    </tr>\n",
       "  </tbody>\n",
       "</table>\n",
       "</div>"
      ],
      "text/plain": [
       "           Attrition  Percent\n",
       "1   Former Employees    16.12\n",
       "0  Current Employees    83.88"
      ]
     },
     "execution_count": 21,
     "metadata": {},
     "output_type": "execute_result"
    }
   ],
   "source": [
    "data = pd.read_csv('/data/Tangerine_data_collection_results/hr_datasets/1-ibm-hr.csv')\n",
    "cat_cols=data.select_dtypes(include=object).columns.tolist()\n",
    "plot_df=data['Attrition'].value_counts(normalize=True)\n",
    "plot_df=plot_df.mul(100).rename('Percent').reset_index().sort_values('Percent')\n",
    "plot_df.rename(columns={'index':'Attrition'}, inplace=True)\n",
    "plot_df['Attrition']=['Former Employees' if i == 'Yes' else 'Current Employees' for i in plot_df['Attrition']]\n",
    "x=plot_df['Attrition']\n",
    "y=plot_df['Percent']\n",
    "plot_df\n",
    "#fig.add_trace(go.Bar(x=x, y=y, text=y,opacity=.8, hovertemplate='Employee Attrition Rate<br>%{x}: %{y:.3}%<extra></extra>', showlegend=False), row=1, col=1)"
   ]
  },
  {
   "cell_type": "code",
   "execution_count": 22,
   "metadata": {
    "tags": []
   },
   "outputs": [
    {
     "ename": "IndentationError",
     "evalue": "expected an indented block after 'for' statement on line 8 (3819395955.py, line 9)",
     "output_type": "error",
     "traceback": [
      "\u001b[0;36m  Cell \u001b[0;32mIn[22], line 9\u001b[0;36m\u001b[0m\n\u001b[0;31m    for field in list(df_HR['Gender'].unique()):\u001b[0m\n\u001b[0m    ^\u001b[0m\n\u001b[0;31mIndentationError\u001b[0m\u001b[0;31m:\u001b[0m expected an indented block after 'for' statement on line 8\n"
     ]
    }
   ],
   "source": [
    "pd.options.display.max_columns = None\n",
    "df_sourcefile = pd.read_csv('/data/Tangerine_data_collection_results/hr_datasets/1-ibm-hr.csv')\n",
    "df_HR = df_sourcefile.copy()\n",
    "df_HR.columns.to_series().groupby(df_HR.dtypes).groups\n",
    "df_HR.info()\n",
    "df_HR.describe()\n",
    "df_HR.hist(figsize=(20,20))\n",
    "for field in list(df_HR['EducationField'].unique()):\n",
    "for field in list(df_HR['Gender'].unique()):\n",
    "for field in list(df_HR['MaritalStatus'].unique()):\n",
    "for field in list(df_HR['Department'].unique()):\n",
    "for field in list(df_HR['BusinessTravel'].unique()):\n",
    "for field in list(df_HR['JobRole'].unique()):\n",
    "for field in list(df_HR['JobLevel'].unique()):\n",
    "for field in list(df_HR['JobInvolvement'].unique()):\n",
    "for field in list(df_HR['NumCompaniesWorked'].unique()):\n",
    "for field in list(df_HR['WorkLifeBalance'].unique()):\n",
    "for field in list(df_HR['OverTime'].unique()):\n",
    "sns.kdeplot(df_HR.loc[df_HR['Attrition'] == 'No', 'MonthlyIncome'], label = 'Active Employee')"
   ]
  },
  {
   "cell_type": "code",
   "execution_count": null,
   "metadata": {},
   "outputs": [],
   "source": []
  }
 ],
 "metadata": {
  "kernelspec": {
   "display_name": "tangerine-nb-kernel",
   "language": "python",
   "name": "tangerine-nb-kernel"
  },
  "language_info": {
   "codemirror_mode": {
    "name": "ipython",
    "version": 3
   },
   "file_extension": ".py",
   "mimetype": "text/x-python",
   "name": "python",
   "nbconvert_exporter": "python",
   "pygments_lexer": "ipython3",
   "version": "3.11.4"
  }
 },
 "nbformat": 4,
 "nbformat_minor": 4
}
