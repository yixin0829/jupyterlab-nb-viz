{
 "cells": [
  {
   "cell_type": "code",
   "execution_count": 6,
   "id": "ff35c903-52da-47ac-9efd-86091693a81e",
   "metadata": {
    "tags": []
   },
   "outputs": [
    {
     "name": "stdout",
     "output_type": "stream",
     "text": [
      "Requirement already satisfied: requests in /fs1/eecg/shuruizgrp/liuenmen/miniconda3/envs/tangerine-nb-kernel/lib/python3.11/site-packages (2.31.0)\n",
      "Requirement already satisfied: charset-normalizer<4,>=2 in /fs1/eecg/shuruizgrp/liuenmen/miniconda3/envs/tangerine-nb-kernel/lib/python3.11/site-packages (from requests) (2.0.4)\n",
      "Requirement already satisfied: idna<4,>=2.5 in /fs1/eecg/shuruizgrp/liuenmen/miniconda3/envs/tangerine-nb-kernel/lib/python3.11/site-packages (from requests) (3.4)\n",
      "Requirement already satisfied: urllib3<3,>=1.21.1 in /fs1/eecg/shuruizgrp/liuenmen/miniconda3/envs/tangerine-nb-kernel/lib/python3.11/site-packages (from requests) (1.26.16)\n",
      "Requirement already satisfied: certifi>=2017.4.17 in /fs1/eecg/shuruizgrp/liuenmen/miniconda3/envs/tangerine-nb-kernel/lib/python3.11/site-packages (from requests) (2023.7.22)\n",
      "Note: you may need to restart the kernel to use updated packages.\n"
     ]
    }
   ],
   "source": [
    "# Installing and Importing appropriate packages\n",
    "%pip install requests\n",
    "\n",
    "# Statistical Libraries\n",
    "import pandas as pd\n",
    "import matplotlib as mpl\n",
    "import matplotlib.pyplot as plt\n",
    "import numpy as np\n",
    "import statsmodels.formula.api as sm\n",
    "from statsmodels.tools.eval_measures import rmse\n",
    "import seaborn as sns\n",
    "from scipy import stats\n",
    "import plotly.express as px\n",
    "from statsmodels.discrete.discrete_model import Logit\n",
    "from scipy.special import logit\n",
    "\n",
    "# Import data Libraries\n",
    "import requests\n",
    "from zipfile import ZipFile as zf\n",
    "import io"
   ]
  },
  {
   "cell_type": "code",
   "execution_count": 7,
   "id": "c84f9e29-5bef-4198-b3b3-4930644d6479",
   "metadata": {
    "tags": []
   },
   "outputs": [
    {
     "name": "stdout",
     "output_type": "stream",
     "text": [
      "Training Dataset:\n",
      "   age         workclass  fnlwgt  education  education-num  \\\n",
      "0   39         State-gov   77516  Bachelors             13   \n",
      "1   50  Self-emp-not-inc   83311  Bachelors             13   \n",
      "2   38           Private  215646    HS-grad              9   \n",
      "3   53           Private  234721       11th              7   \n",
      "4   28           Private  338409  Bachelors             13   \n",
      "5   37           Private  284582    Masters             14   \n",
      "6   49           Private  160187        9th              5   \n",
      "7   52  Self-emp-not-inc  209642    HS-grad              9   \n",
      "8   31           Private   45781    Masters             14   \n",
      "9   42           Private  159449  Bachelors             13   \n",
      "\n",
      "          marital-status         occupation   relationship   race     sex  \\\n",
      "0          Never-married       Adm-clerical  Not-in-family  White    Male   \n",
      "1     Married-civ-spouse    Exec-managerial        Husband  White    Male   \n",
      "2               Divorced  Handlers-cleaners  Not-in-family  White    Male   \n",
      "3     Married-civ-spouse  Handlers-cleaners        Husband  Black    Male   \n",
      "4     Married-civ-spouse     Prof-specialty           Wife  Black  Female   \n",
      "5     Married-civ-spouse    Exec-managerial           Wife  White  Female   \n",
      "6  Married-spouse-absent      Other-service  Not-in-family  Black  Female   \n",
      "7     Married-civ-spouse    Exec-managerial        Husband  White    Male   \n",
      "8          Never-married     Prof-specialty  Not-in-family  White  Female   \n",
      "9     Married-civ-spouse    Exec-managerial        Husband  White    Male   \n",
      "\n",
      "   capital-gain  capital-loss  hours-per-week native-country above-below  \n",
      "0          2174             0              40  United-States       <=50K  \n",
      "1             0             0              13  United-States       <=50K  \n",
      "2             0             0              40  United-States       <=50K  \n",
      "3             0             0              40  United-States       <=50K  \n",
      "4             0             0              40           Cuba       <=50K  \n",
      "5             0             0              40  United-States       <=50K  \n",
      "6             0             0              16        Jamaica       <=50K  \n",
      "7             0             0              45  United-States        >50K  \n",
      "8         14084             0              50  United-States        >50K  \n",
      "9          5178             0              40  United-States        >50K  \n",
      " \n",
      " \n",
      "Testing Dataset:\n",
      "   age         workclass  fnlwgt     education  education-num  \\\n",
      "0   25           Private  226802          11th              7   \n",
      "1   38           Private   89814       HS-grad              9   \n",
      "2   28         Local-gov  336951    Assoc-acdm             12   \n",
      "3   44           Private  160323  Some-college             10   \n",
      "4   18                 ?  103497  Some-college             10   \n",
      "5   34           Private  198693          10th              6   \n",
      "6   29                 ?  227026       HS-grad              9   \n",
      "7   63  Self-emp-not-inc  104626   Prof-school             15   \n",
      "8   24           Private  369667  Some-college             10   \n",
      "9   55           Private  104996       7th-8th              4   \n",
      "\n",
      "       marital-status         occupation   relationship   race     sex  \\\n",
      "0       Never-married  Machine-op-inspct      Own-child  Black    Male   \n",
      "1  Married-civ-spouse    Farming-fishing        Husband  White    Male   \n",
      "2  Married-civ-spouse    Protective-serv        Husband  White    Male   \n",
      "3  Married-civ-spouse  Machine-op-inspct        Husband  Black    Male   \n",
      "4       Never-married                  ?      Own-child  White  Female   \n",
      "5       Never-married      Other-service  Not-in-family  White    Male   \n",
      "6       Never-married                  ?      Unmarried  Black    Male   \n",
      "7  Married-civ-spouse     Prof-specialty        Husband  White    Male   \n",
      "8       Never-married      Other-service      Unmarried  White  Female   \n",
      "9  Married-civ-spouse       Craft-repair        Husband  White    Male   \n",
      "\n",
      "   capital-gain  capital-loss  hours-per-week native-country above-below  \n",
      "0             0             0              40  United-States      <=50K.  \n",
      "1             0             0              50  United-States      <=50K.  \n",
      "2             0             0              40  United-States       >50K.  \n",
      "3          7688             0              40  United-States       >50K.  \n",
      "4             0             0              30  United-States      <=50K.  \n",
      "5             0             0              30  United-States      <=50K.  \n",
      "6             0             0              40  United-States      <=50K.  \n",
      "7          3103             0              32  United-States       >50K.  \n",
      "8             0             0              40  United-States      <=50K.  \n",
      "9             0             0              10  United-States      <=50K.  \n"
     ]
    }
   ],
   "source": [
    "# Import data\n",
    "URL = 'https://archive.ics.uci.edu/static/public/2/adult.zip'\n",
    "filename_data = \"adult.data\"\n",
    "filename_test = \"adult.test\"\n",
    "\n",
    "# Extracting from URL\n",
    "response = requests.get(URL)\n",
    "zipped = zf(io.BytesIO(response.content))\n",
    "zipped.extract(filename_data)\n",
    "zipped.extract(filename_test)\n",
    "\n",
    "# Creating DataFrame from CSV file\n",
    "col_names = ['age', 'workclass', 'fnlwgt', 'education', 'education-num', 'marital-status', 'occupation', 'relationship', 'race', 'sex', 'capital-gain', 'capital-loss', 'hours-per-week', 'native-country', 'above-below']\n",
    "df_data = pd.read_csv(filename_data, sep=',', header=None, names=col_names, index_col=False, skipinitialspace = True)\n",
    "print('Training Dataset:')\n",
    "print(df_data.head(10))\n",
    "print(\" \")\n",
    "print(\" \")\n",
    "\n",
    "df_test = pd.read_csv(filename_test, sep=',', header=None, skiprows=1, names=col_names, index_col=False, skipinitialspace = True)\n",
    "print('Testing Dataset:')\n",
    "print(df_test.head(10))"
   ]
  },
  {
   "cell_type": "code",
   "execution_count": 8,
   "id": "1b109200-3d4a-4a5c-b560-042e51b7a27c",
   "metadata": {
    "tags": []
   },
   "outputs": [
    {
     "name": "stdout",
     "output_type": "stream",
     "text": [
      "NaN values in DataFrame:  0\n"
     ]
    }
   ],
   "source": [
    "# Searching for any NaN or blanks in the data\n",
    "print('NaN values in DataFrame: ', df_data.isna().sum().sum())"
   ]
  },
  {
   "cell_type": "code",
   "execution_count": 9,
   "id": "9cab6585-387b-470b-8d22-3eedb755e77a",
   "metadata": {
    "tags": []
   },
   "outputs": [
    {
     "name": "stdout",
     "output_type": "stream",
     "text": [
      "[39 50 38 53 28 37 49 52 31 42 30 23 32 40 34 25 43 54 35 59 56 19 20 45\n",
      " 22 48 21 24 57 44 41 29 18 47 46 36 79 27 67 33 76 17 55 61 70 64 71 68\n",
      " 66 51 58 26 60 90 75 65 77 62 63 80 72 74 69 73 81 78 88 82 83 84 85 86\n",
      " 87]\n",
      "['State-gov' 'Self-emp-not-inc' 'Private' 'Federal-gov' 'Local-gov' '?'\n",
      " 'Self-emp-inc' 'Without-pay' 'Never-worked']\n",
      "[ 77516  83311 215646 ...  34066  84661 257302]\n",
      "['Bachelors' 'HS-grad' '11th' 'Masters' '9th' 'Some-college' 'Assoc-acdm'\n",
      " 'Assoc-voc' '7th-8th' 'Doctorate' 'Prof-school' '5th-6th' '10th'\n",
      " '1st-4th' 'Preschool' '12th']\n",
      "[13  9  7 14  5 10 12 11  4 16 15  3  6  2  1  8]\n",
      "['Never-married' 'Married-civ-spouse' 'Divorced' 'Married-spouse-absent'\n",
      " 'Separated' 'Married-AF-spouse' 'Widowed']\n",
      "['Adm-clerical' 'Exec-managerial' 'Handlers-cleaners' 'Prof-specialty'\n",
      " 'Other-service' 'Sales' 'Craft-repair' 'Transport-moving'\n",
      " 'Farming-fishing' 'Machine-op-inspct' 'Tech-support' '?'\n",
      " 'Protective-serv' 'Armed-Forces' 'Priv-house-serv']\n",
      "['Not-in-family' 'Husband' 'Wife' 'Own-child' 'Unmarried' 'Other-relative']\n",
      "['White' 'Black' 'Asian-Pac-Islander' 'Amer-Indian-Eskimo' 'Other']\n",
      "['Male' 'Female']\n",
      "[ 2174     0 14084  5178  5013  2407 14344 15024  7688 34095  4064  4386\n",
      "  7298  1409  3674  1055  3464  2050  2176   594 20051  6849  4101  1111\n",
      "  8614  3411  2597 25236  4650  9386  2463  3103 10605  2964  3325  2580\n",
      "  3471  4865 99999  6514  1471  2329  2105  2885 25124 10520  2202  2961\n",
      " 27828  6767  2228  1506 13550  2635  5556  4787  3781  3137  3818  3942\n",
      "   914   401  2829  2977  4934  2062  2354  5455 15020  1424  3273 22040\n",
      "  4416  3908 10566   991  4931  1086  7430  6497   114  7896  2346  3418\n",
      "  3432  2907  1151  2414  2290 15831 41310  4508  2538  3456  6418  1848\n",
      "  3887  5721  9562  1455  2036  1831 11678  2936  2993  7443  6360  1797\n",
      "  1173  4687  6723  2009  6097  2653  1639 18481  7978  2387  5060]\n",
      "[   0 2042 1408 1902 1573 1887 1719 1762 1564 2179 1816 1980 1977 1876\n",
      " 1340 2206 1741 1485 2339 2415 1380 1721 2051 2377 1669 2352 1672  653\n",
      " 2392 1504 2001 1590 1651 1628 1848 1740 2002 1579 2258 1602  419 2547\n",
      " 2174 2205 1726 2444 1138 2238  625  213 1539  880 1668 1092 1594 3004\n",
      " 2231 1844  810 2824 2559 2057 1974  974 2149 1825 1735 1258 2129 2603\n",
      " 2282  323 4356 2246 1617 1648 2489 3770 1755 3683 2267 2080 2457  155\n",
      " 3900 2201 1944 2467 2163 2754 2472 1411]\n",
      "[40 13 16 45 50 80 30 35 60 20 52 44 15 25 38 43 55 48 58 32 70  2 22 56\n",
      " 41 28 36 24 46 42 12 65  1 10 34 75 98 33 54  8  6 64 19 18 72  5  9 47\n",
      " 37 21 26 14  4 59  7 99 53 39 62 57 78 90 66 11 49 84  3 17 68 27 85 31\n",
      " 51 77 63 23 87 88 73 89 97 94 29 96 67 82 86 91 81 76 92 61 74 95]\n",
      "['United-States' 'Cuba' 'Jamaica' 'India' '?' 'Mexico' 'South'\n",
      " 'Puerto-Rico' 'Honduras' 'England' 'Canada' 'Germany' 'Iran'\n",
      " 'Philippines' 'Italy' 'Poland' 'Columbia' 'Cambodia' 'Thailand' 'Ecuador'\n",
      " 'Laos' 'Taiwan' 'Haiti' 'Portugal' 'Dominican-Republic' 'El-Salvador'\n",
      " 'France' 'Guatemala' 'China' 'Japan' 'Yugoslavia' 'Peru'\n",
      " 'Outlying-US(Guam-USVI-etc)' 'Scotland' 'Trinadad&Tobago' 'Greece'\n",
      " 'Nicaragua' 'Vietnam' 'Hong' 'Ireland' 'Hungary' 'Holand-Netherlands']\n",
      "['<=50K' '>50K']\n"
     ]
    }
   ],
   "source": [
    "# Identifying values in column to see if blank values are replaced by other characters\n",
    "for col in df_data:\n",
    "    print(df_data[col].unique())"
   ]
  },
  {
   "cell_type": "code",
   "execution_count": null,
   "id": "6ee49209-74d5-484f-9156-971c7df0d316",
   "metadata": {},
   "outputs": [],
   "source": []
  }
 ],
 "metadata": {
  "kernelspec": {
   "display_name": "tangerine-nb-kernel",
   "language": "python",
   "name": "tangerine-nb-kernel"
  },
  "language_info": {
   "codemirror_mode": {
    "name": "ipython",
    "version": 3
   },
   "file_extension": ".py",
   "mimetype": "text/x-python",
   "name": "python",
   "nbconvert_exporter": "python",
   "pygments_lexer": "ipython3",
   "version": "3.11.4"
  }
 },
 "nbformat": 4,
 "nbformat_minor": 5
}
