{
 "cells": [
  {
   "cell_type": "code",
   "execution_count": 63,
   "metadata": {
    "tags": []
   },
   "outputs": [],
   "source": [
    "# import packages\n",
    "import pandas as pd\n",
    "import seaborn as sns\n",
    "import plotly.express as px\n",
    "import plotly.graph_objects as go\n",
    "import matplotlib.pyplot as plt\n",
    "import numpy as np\n",
    "# other installed packages: scipy, scikit-learn, statsmodel "
   ]
  },
  {
   "cell_type": "code",
   "execution_count": 64,
   "metadata": {
    "tags": []
   },
   "outputs": [],
   "source": [
    "# read the dataset\n",
    "df = pd.read_csv('../datasets/2-ds-job-salaries.csv', index_col=0)"
   ]
  },
  {
   "cell_type": "code",
   "execution_count": 66,
   "metadata": {
    "tags": []
   },
   "outputs": [],
   "source": [
    "# split categorical and numerical columns\n",
    "categorical_columns = ['experience_level', 'employment_type', 'job_title', 'employee_residence', 'company_location', 'company_size' ]\n",
    "categorical = df.select_dtypes(include= \"object\")\n",
    "\n",
    "numerical_columns = ['work_year', 'remote_ratio']\n",
    "numerical = df.select_dtypes(exclude= \"object\")"
   ]
  },
  {
   "cell_type": "code",
   "execution_count": 67,
   "metadata": {
    "tags": []
   },
   "outputs": [],
   "source": [
    "# # one hot encoding\n",
    "# from sklearn.preprocessing import OneHotEncoder\n",
    "# ohe = OneHotEncoder()\n",
    "\n",
    "# # OneHotEncoding of categorical predictors\n",
    "# encoded_data = categorical\n",
    "# ohe.fit(encoded_data)\n",
    "# encoded_data_ohe = pd.DataFrame(ohe.transform(encoded_data).toarray(), columns=ohe.get_feature_names_out(encoded_data.columns))\n",
    "\n",
    "# # Check the encoded variables\n",
    "# encoded_data_ohe.info()"
   ]
  },
  {
   "cell_type": "code",
   "execution_count": 68,
   "metadata": {
    "tags": []
   },
   "outputs": [],
   "source": [
    "df_dummies = pd.get_dummies(df[categorical_columns], drop_first=True)"
   ]
  },
  {
   "cell_type": "code",
   "execution_count": 69,
   "metadata": {
    "tags": []
   },
   "outputs": [],
   "source": [
    "X = pd.concat([numerical,df_dummies], axis = 1)"
   ]
  },
  {
   "cell_type": "code",
   "execution_count": 70,
   "metadata": {
    "tags": []
   },
   "outputs": [],
   "source": [
    "X = X.dropna(axis=1)"
   ]
  },
  {
   "cell_type": "code",
   "execution_count": 71,
   "metadata": {
    "tags": []
   },
   "outputs": [],
   "source": [
    "y = df[\"salary_in_usd\"]"
   ]
  },
  {
   "cell_type": "code",
   "execution_count": 76,
   "metadata": {
    "tags": []
   },
   "outputs": [],
   "source": [
    "import statsmodels.api as sm"
   ]
  },
  {
   "cell_type": "code",
   "execution_count": 77,
   "metadata": {
    "tags": []
   },
   "outputs": [],
   "source": [
    "X = sm.add_constant(X)"
   ]
  },
  {
   "cell_type": "code",
   "execution_count": 78,
   "metadata": {
    "tags": []
   },
   "outputs": [],
   "source": [
    "X.reset_index(drop=True, inplace=True)"
   ]
  },
  {
   "cell_type": "code",
   "execution_count": 79,
   "metadata": {
    "tags": []
   },
   "outputs": [],
   "source": [
    "y.reset_index(drop=True, inplace=True)"
   ]
  },
  {
   "cell_type": "code",
   "execution_count": 80,
   "metadata": {
    "tags": []
   },
   "outputs": [],
   "source": [
    "y = list(y)"
   ]
  },
  {
   "cell_type": "code",
   "execution_count": 81,
   "metadata": {
    "tags": []
   },
   "outputs": [],
   "source": [
    "model = sm.OLS(y, X).fit()"
   ]
  },
  {
   "cell_type": "code",
   "execution_count": 82,
   "metadata": {
    "tags": []
   },
   "outputs": [
    {
     "name": "stdout",
     "output_type": "stream",
     "text": [
      "                            OLS Regression Results                            \n",
      "==============================================================================\n",
      "Dep. Variable:                      y   R-squared:                       1.000\n",
      "Model:                            OLS   Adj. R-squared:                  1.000\n",
      "Method:                 Least Squares   F-statistic:                 7.458e+25\n",
      "Date:                Wed, 09 Aug 2023   Prob (F-statistic):               0.00\n",
      "Time:                        16:17:43   Log-Likelihood:                 10075.\n",
      "No. Observations:                 607   AIC:                        -1.987e+04\n",
      "Df Residuals:                     466   BIC:                        -1.925e+04\n",
      "Df Model:                         140                                         \n",
      "Covariance Type:            nonrobust                                         \n",
      "======================================================================================================================\n",
      "                                                         coef    std err          t      P>|t|      [0.025      0.975]\n",
      "----------------------------------------------------------------------------------------------------------------------\n",
      "const                                               2.681e-05   3.12e-06      8.584      0.000    2.07e-05    3.29e-05\n",
      "work_year                                          -1.326e-08   1.55e-09     -8.576      0.000   -1.63e-08   -1.02e-08\n",
      "salary                                              3.825e-16    1.7e-15      0.225      0.822   -2.96e-15    3.72e-15\n",
      "salary_in_usd                                          1.0000   1.78e-14   5.61e+13      0.000       1.000       1.000\n",
      "remote_ratio                                       -1.421e-14   2.02e-11     -0.001      0.999   -3.96e-11    3.96e-11\n",
      "experience_level_EX                                -2.183e-11   5.97e-09     -0.004      0.997   -1.18e-08    1.17e-08\n",
      "experience_level_MI                                -2.547e-11   2.81e-09     -0.009      0.993   -5.54e-09    5.49e-09\n",
      "experience_level_SE                                 2.728e-11   3.02e-09      0.009      0.993    -5.9e-09    5.95e-09\n",
      "employment_type_FL                                 -2.838e-10   1.79e-08     -0.016      0.987   -3.55e-08    3.49e-08\n",
      "employment_type_FT                                 -1.492e-10   1.15e-08     -0.013      0.990   -2.27e-08    2.24e-08\n",
      "employment_type_PT                                 -1.564e-10   1.35e-08     -0.012      0.991   -2.66e-08    2.63e-08\n",
      "job_title_AI Scientist                              4.547e-11   2.09e-08      0.002      0.998   -4.11e-08    4.12e-08\n",
      "job_title_Analytics Engineer                        5.821e-11   2.13e-08      0.003      0.998   -4.19e-08     4.2e-08\n",
      "job_title_Applied Data Scientist                    3.638e-11   2.14e-08      0.002      0.999    -4.2e-08    4.21e-08\n",
      "job_title_Applied Machine Learning Scientist       -8.731e-11   2.51e-08     -0.003      0.997   -4.95e-08    4.93e-08\n",
      "job_title_BI Data Analyst                           4.366e-11   2.13e-08      0.002      0.998   -4.18e-08    4.19e-08\n",
      "job_title_Big Data Architect                         2.91e-11   2.61e-08      0.001      0.999   -5.13e-08    5.13e-08\n",
      "job_title_Big Data Engineer                        -5.093e-11   2.09e-08     -0.002      0.998   -4.11e-08     4.1e-08\n",
      "job_title_Business Data Analyst                    -2.183e-11   2.12e-08     -0.001      0.999   -4.17e-08    4.16e-08\n",
      "job_title_Cloud Data Engineer                       2.037e-10   3.01e-08      0.007      0.995   -5.89e-08    5.93e-08\n",
      "job_title_Computer Vision Engineer                          0   2.17e-08          0      1.000   -4.26e-08    4.26e-08\n",
      "job_title_Computer Vision Software Engineer         3.638e-11   2.32e-08      0.002      0.999   -4.55e-08    4.56e-08\n",
      "job_title_Data Analyst                              3.638e-12   1.95e-08      0.000      1.000   -3.83e-08    3.83e-08\n",
      "job_title_Data Analytics Engineer                   4.547e-11   2.21e-08      0.002      0.998   -4.33e-08    4.34e-08\n",
      "job_title_Data Analytics Lead                       4.366e-10   2.66e-08      0.016      0.987   -5.18e-08    5.27e-08\n",
      "job_title_Data Analytics Manager                    5.093e-11   2.05e-08      0.002      0.998   -4.02e-08    4.03e-08\n",
      "job_title_Data Architect                                    0   2.01e-08          0      1.000   -3.96e-08    3.96e-08\n",
      "job_title_Data Engineer                             5.821e-11   1.95e-08      0.003      0.998   -3.82e-08    3.83e-08\n",
      "job_title_Data Engineering Manager                  1.819e-11   2.11e-08      0.001      0.999   -4.14e-08    4.14e-08\n",
      "job_title_Data Science Consultant                   4.547e-11   2.09e-08      0.002      0.998   -4.09e-08     4.1e-08\n",
      "job_title_Data Science Engineer                    -5.821e-11   2.31e-08     -0.003      0.998   -4.55e-08    4.54e-08\n",
      "job_title_Data Science Manager                     -3.638e-12   2.01e-08     -0.000      1.000   -3.96e-08    3.96e-08\n",
      "job_title_Data Scientist                            2.183e-11   1.95e-08      0.001      0.999   -3.82e-08    3.83e-08\n",
      "job_title_Data Specialist                          -5.821e-11    2.6e-08     -0.002      0.998   -5.11e-08     5.1e-08\n",
      "job_title_Director of Data Engineering             -7.276e-12    2.3e-08     -0.000      1.000   -4.52e-08    4.52e-08\n",
      "job_title_Director of Data Science                  -3.82e-11   2.12e-08     -0.002      0.999   -4.16e-08    4.15e-08\n",
      "job_title_ETL Developer                             4.002e-11   2.37e-08      0.002      0.999   -4.65e-08    4.66e-08\n",
      "job_title_Finance Data Analyst                      1.455e-10   2.62e-08      0.006      0.996   -5.13e-08    5.16e-08\n",
      "job_title_Financial Data Analyst                   -8.731e-11   2.34e-08     -0.004      0.997    -4.6e-08    4.58e-08\n",
      "job_title_Head of Data                             -4.366e-11   2.34e-08     -0.002      0.999    -4.6e-08    4.59e-08\n",
      "job_title_Head of Data Science                              0   2.18e-08          0      1.000   -4.28e-08    4.28e-08\n",
      "job_title_Head of Machine Learning                 -6.185e-11   2.74e-08     -0.002      0.998   -5.38e-08    5.37e-08\n",
      "job_title_Lead Data Analyst                         9.459e-11   2.16e-08      0.004      0.997   -4.23e-08    4.25e-08\n",
      "job_title_Lead Data Engineer                       -5.093e-11   2.19e-08     -0.002      0.998    -4.3e-08    4.29e-08\n",
      "job_title_Lead Data Scientist                      -1.164e-10    2.2e-08     -0.005      0.996   -4.33e-08    4.31e-08\n",
      "job_title_Lead Machine Learning Engineer           -9.459e-11   2.64e-08     -0.004      0.997    -5.2e-08    5.18e-08\n",
      "job_title_ML Engineer                              -1.164e-10   2.13e-08     -0.005      0.996    -4.2e-08    4.17e-08\n",
      "job_title_Machine Learning Developer                1.455e-10   2.31e-08      0.006      0.995   -4.53e-08    4.56e-08\n",
      "job_title_Machine Learning Engineer                 6.003e-11   1.97e-08      0.003      0.998   -3.87e-08    3.89e-08\n",
      "job_title_Machine Learning Infrastructure Engineer -9.823e-11    2.3e-08     -0.004      0.997   -4.52e-08     4.5e-08\n",
      "job_title_Machine Learning Manager                 -1.237e-10   2.62e-08     -0.005      0.996   -5.17e-08    5.14e-08\n",
      "job_title_Machine Learning Scientist                8.004e-11   2.06e-08      0.004      0.997   -4.04e-08    4.06e-08\n",
      "job_title_Marketing Data Analyst                    7.276e-11   2.11e-08      0.003      0.997   -4.13e-08    4.15e-08\n",
      "job_title_NLP Engineer                              8.731e-11   2.61e-08      0.003      0.997   -5.11e-08    5.13e-08\n",
      "job_title_Principal Data Analyst                   -6.912e-11    2.3e-08     -0.003      0.998   -4.53e-08    4.52e-08\n",
      "job_title_Principal Data Engineer                  -8.004e-11   2.21e-08     -0.004      0.997   -4.35e-08    4.34e-08\n",
      "job_title_Principal Data Scientist                 -1.019e-10   2.08e-08     -0.005      0.996   -4.09e-08    4.07e-08\n",
      "job_title_Product Data Analyst                      2.328e-10   2.55e-08      0.009      0.993   -4.98e-08    5.03e-08\n",
      "job_title_Research Scientist                        2.547e-11   2.02e-08      0.001      0.999   -3.97e-08    3.98e-08\n",
      "job_title_Staff Data Scientist                     -2.765e-10   2.81e-08     -0.010      0.992   -5.56e-08     5.5e-08\n",
      "employee_residence_AR                               1.091e-11   1.53e-08      0.001      0.999   -3.01e-08    3.02e-08\n",
      "employee_residence_AT                              -6.548e-11    2.3e-08     -0.003      0.998   -4.52e-08    4.51e-08\n",
      "employee_residence_AU                               1.455e-11   7.56e-09      0.002      0.998   -1.48e-08    1.49e-08\n",
      "employee_residence_BE                               1.455e-11   8.16e-09      0.002      0.999    -1.6e-08     1.6e-08\n",
      "employee_residence_BG                               7.276e-12   1.83e-08      0.000      1.000    -3.6e-08     3.6e-08\n",
      "employee_residence_BO                               -2.91e-11   2.31e-08     -0.001      0.999   -4.55e-08    4.54e-08\n",
      "employee_residence_BR                              -5.457e-11   1.42e-08     -0.004      0.997   -2.79e-08    2.78e-08\n",
      "employee_residence_CA                               1.164e-10   1.37e-08      0.008      0.993   -2.69e-08    2.71e-08\n",
      "employee_residence_CH                              -2.474e-10   2.73e-08     -0.009      0.993   -5.39e-08    5.34e-08\n",
      "employee_residence_CL                              -8.731e-11   2.76e-08     -0.003      0.997   -5.44e-08    5.42e-08\n",
      "employee_residence_CN                              -7.094e-11   1.37e-08     -0.005      0.996    -2.7e-08    2.68e-08\n",
      "employee_residence_CO                               3.638e-11   1.02e-08      0.004      0.997   -2.01e-08    2.02e-08\n",
      "employee_residence_CZ                              -6.548e-11   1.52e-08     -0.004      0.997      -3e-08    2.99e-08\n",
      "employee_residence_DE                               1.273e-10   1.24e-08      0.010      0.992   -2.43e-08    2.46e-08\n",
      "employee_residence_DK                               2.183e-11   1.52e-08      0.001      0.999   -2.98e-08    2.98e-08\n",
      "employee_residence_DZ                              -1.455e-11   1.09e-08     -0.001      0.999   -2.15e-08    2.15e-08\n",
      "employee_residence_EE                              -4.729e-11    1.2e-08     -0.004      0.997   -2.36e-08    2.35e-08\n",
      "employee_residence_ES                               7.276e-11   1.45e-08      0.005      0.996   -2.83e-08    2.85e-08\n",
      "employee_residence_FR                              -3.456e-11   1.05e-08     -0.003      0.997   -2.06e-08    2.05e-08\n",
      "employee_residence_GB                               7.276e-11   1.43e-08      0.005      0.996    -2.8e-08    2.81e-08\n",
      "employee_residence_GR                              -3.638e-12   1.79e-08     -0.000      1.000   -3.52e-08    3.51e-08\n",
      "employee_residence_HK                               3.565e-10   2.18e-08      0.016      0.987   -4.25e-08    4.32e-08\n",
      "employee_residence_HN                              -2.947e-10   1.35e-08     -0.022      0.983   -2.68e-08    2.62e-08\n",
      "employee_residence_HR                               2.183e-11   1.02e-08      0.002      0.998   -1.99e-08       2e-08\n",
      "employee_residence_HU                              -1.164e-10    2.7e-08     -0.004      0.997   -5.32e-08    5.29e-08\n",
      "employee_residence_IE                               5.639e-11   1.01e-08      0.006      0.996   -1.97e-08    1.98e-08\n",
      "employee_residence_IN                               5.093e-11   1.08e-08      0.005      0.996   -2.12e-08    2.13e-08\n",
      "employee_residence_IQ                              -6.548e-11   1.21e-08     -0.005      0.996   -2.38e-08    2.36e-08\n",
      "employee_residence_IR                               7.276e-11   1.03e-08      0.007      0.994   -2.01e-08    2.02e-08\n",
      "employee_residence_IT                               8.004e-11   1.82e-08      0.004      0.996   -3.56e-08    3.58e-08\n",
      "employee_residence_JE                               8.004e-11   1.39e-08      0.006      0.995   -2.73e-08    2.75e-08\n",
      "employee_residence_JP                               8.731e-11    9.7e-09      0.009      0.993    -1.9e-08    1.91e-08\n",
      "employee_residence_KE                               3.638e-11   1.11e-08      0.003      0.997   -2.18e-08    2.19e-08\n",
      "employee_residence_LU                              -1.164e-10   2.52e-08     -0.005      0.996   -4.97e-08    4.94e-08\n",
      "employee_residence_MD                               9.322e-11    1.1e-08      0.008      0.993   -2.16e-08    2.18e-08\n",
      "employee_residence_MT                               7.276e-12   1.02e-08      0.001      0.999   -2.01e-08    2.01e-08\n",
      "employee_residence_MX                               6.185e-11   1.16e-08      0.005      0.996   -2.28e-08    2.29e-08\n",
      "employee_residence_MY                              -5.821e-11   2.22e-08     -0.003      0.998   -4.37e-08    4.36e-08\n",
      "employee_residence_NG                               2.183e-11   8.18e-09      0.003      0.998   -1.61e-08    1.61e-08\n",
      "employee_residence_NL                                       0   2.04e-08          0      1.000   -4.01e-08    4.01e-08\n",
      "employee_residence_NZ                               3.638e-11   1.13e-08      0.003      0.997   -2.21e-08    2.21e-08\n",
      "employee_residence_PH                               1.091e-10   1.83e-08      0.006      0.995   -3.59e-08    3.61e-08\n",
      "employee_residence_PK                               1.182e-11   1.39e-08      0.001      0.999   -2.72e-08    2.72e-08\n",
      "employee_residence_PL                               2.619e-10   1.88e-08      0.014      0.989   -3.67e-08    3.72e-08\n",
      "employee_residence_PR                               1.382e-10   2.02e-08      0.007      0.995   -3.96e-08    3.99e-08\n",
      "employee_residence_PT                              -1.346e-10   1.69e-08     -0.008      0.994   -3.33e-08     3.3e-08\n",
      "employee_residence_RO                              -1.819e-11   1.46e-08     -0.001      0.999   -2.86e-08    2.86e-08\n",
      "employee_residence_RS                               7.458e-11   2.09e-08      0.004      0.997   -4.11e-08    4.12e-08\n",
      "employee_residence_RU                               1.382e-10    1.5e-08      0.009      0.993   -2.94e-08    2.96e-08\n",
      "employee_residence_SG                              -5.821e-11   1.32e-08     -0.004      0.996   -2.59e-08    2.58e-08\n",
      "employee_residence_SI                               5.457e-11    8.7e-09      0.006      0.995   -1.71e-08    1.72e-08\n",
      "employee_residence_TN                               -2.91e-11   1.89e-08     -0.002      0.999   -3.73e-08    3.72e-08\n",
      "employee_residence_TR                              -1.819e-11   7.44e-09     -0.002      0.998   -1.46e-08    1.46e-08\n",
      "employee_residence_UA                                2.91e-11   1.03e-08      0.003      0.998   -2.02e-08    2.03e-08\n",
      "employee_residence_US                               3.274e-11   7.14e-09      0.005      0.996    -1.4e-08    1.41e-08\n",
      "employee_residence_VN                               1.164e-10   1.79e-08      0.007      0.995    -3.5e-08    3.52e-08\n",
      "company_location_AS                                 -2.91e-11   2.16e-08     -0.001      0.999   -4.25e-08    4.25e-08\n",
      "company_location_AT                                 6.548e-11    2.1e-08      0.003      0.998   -4.12e-08    4.13e-08\n",
      "company_location_AU                                 7.276e-12   7.56e-09      0.001      0.999   -1.49e-08    1.49e-08\n",
      "company_location_BE                                 2.183e-11   8.16e-09      0.003      0.998    -1.6e-08     1.6e-08\n",
      "company_location_BR                                 1.983e-10   1.89e-08      0.010      0.992    -3.7e-08    3.74e-08\n",
      "company_location_CA                                -3.274e-11    1.4e-08     -0.002      0.998   -2.75e-08    2.74e-08\n",
      "company_location_CH                                 1.965e-10   2.18e-08      0.009      0.993   -4.26e-08    4.29e-08\n",
      "company_location_CL                                 -2.91e-11   2.76e-08     -0.001      0.999   -5.44e-08    5.43e-08\n",
      "company_location_CN                                -1.819e-12   1.11e-08     -0.000      1.000   -2.17e-08    2.17e-08\n",
      "company_location_CO                                 5.821e-11   1.02e-08      0.006      0.995   -2.01e-08    2.02e-08\n",
      "company_location_CZ                                 -2.91e-11   1.29e-08     -0.002      0.998   -2.54e-08    2.53e-08\n",
      "company_location_DE                                 2.183e-11   1.26e-08      0.002      0.999   -2.47e-08    2.47e-08\n",
      "company_location_DK                                 4.366e-11   1.25e-08      0.004      0.997   -2.44e-08    2.45e-08\n",
      "company_location_DZ                                         0   1.09e-08          0      1.000   -2.15e-08    2.15e-08\n",
      "company_location_EE                                -4.002e-11    1.2e-08     -0.003      0.997   -2.36e-08    2.35e-08\n",
      "company_location_ES                                 -2.91e-11   1.49e-08     -0.002      0.998   -2.93e-08    2.93e-08\n",
      "company_location_FR                                         0   1.17e-08          0      1.000   -2.29e-08    2.29e-08\n",
      "company_location_GB                                -4.366e-11   1.43e-08     -0.003      0.998   -2.82e-08    2.81e-08\n",
      "company_location_GR                                 7.276e-11   1.93e-08      0.004      0.997   -3.78e-08    3.79e-08\n",
      "company_location_HN                                -2.801e-10   1.35e-08     -0.021      0.983   -2.68e-08    2.63e-08\n",
      "company_location_HR                                 5.275e-11   1.02e-08      0.005      0.996   -1.99e-08       2e-08\n",
      "company_location_HU                                 2.474e-10   2.63e-08      0.009      0.993   -5.15e-08     5.2e-08\n",
      "company_location_IE                                 5.093e-11   1.01e-08      0.005      0.996   -1.97e-08    1.98e-08\n",
      "company_location_IL                                -2.183e-11   1.52e-08     -0.001      0.999   -2.99e-08    2.98e-08\n",
      "company_location_IN                                 5.821e-11   1.21e-08      0.005      0.996   -2.38e-08    2.39e-08\n",
      "company_location_IQ                                -7.276e-11   1.21e-08     -0.006      0.995   -2.38e-08    2.36e-08\n",
      "company_location_IR                                 3.274e-11   1.03e-08      0.003      0.997   -2.01e-08    2.02e-08\n",
      "company_location_IT                                 -2.91e-11   2.24e-08     -0.001      0.999   -4.41e-08     4.4e-08\n",
      "company_location_JP                                -4.002e-11   9.42e-09     -0.004      0.997   -1.86e-08    1.85e-08\n",
      "company_location_KE                                 7.276e-11   1.11e-08      0.007      0.995   -2.18e-08    2.19e-08\n",
      "company_location_LU                                 1.892e-10   1.67e-08      0.011      0.991   -3.26e-08     3.3e-08\n",
      "company_location_MD                                 9.049e-11    1.1e-08      0.008      0.993   -2.16e-08    2.18e-08\n",
      "company_location_MT                                 1.455e-11   1.02e-08      0.001      0.999      -2e-08    2.01e-08\n",
      "company_location_MX                                 4.366e-11   1.09e-08      0.004      0.997   -2.14e-08    2.14e-08\n",
      "company_location_MY                                 1.455e-10   1.27e-08      0.011      0.991   -2.49e-08    2.52e-08\n",
      "company_location_NG                                -3.638e-12   8.18e-09     -0.000      1.000   -1.61e-08    1.61e-08\n",
      "company_location_NL                                  2.91e-11   2.28e-08      0.001      0.999   -4.47e-08    4.48e-08\n",
      "company_location_NZ                                 5.093e-11   1.13e-08      0.005      0.996   -2.21e-08    2.22e-08\n",
      "company_location_PK                                 1.455e-11   1.85e-08      0.001      0.999   -3.64e-08    3.64e-08\n",
      "company_location_PL                                -1.455e-10   1.96e-08     -0.007      0.994   -3.87e-08    3.84e-08\n",
      "company_location_PT                                 3.274e-10   2.03e-08      0.016      0.987   -3.95e-08    4.02e-08\n",
      "company_location_RO                                 5.093e-11   2.38e-08      0.002      0.998   -4.67e-08    4.68e-08\n",
      "company_location_RU                                -1.455e-10   2.17e-08     -0.007      0.995   -4.28e-08    4.25e-08\n",
      "company_location_SG                                -8.731e-11   1.97e-08     -0.004      0.996   -3.88e-08    3.87e-08\n",
      "company_location_SI                                 5.821e-11    8.7e-09      0.007      0.995    -1.7e-08    1.72e-08\n",
      "company_location_TR                                 1.455e-11   7.44e-09      0.002      0.998   -1.46e-08    1.46e-08\n",
      "company_location_UA                                 4.002e-11   1.03e-08      0.004      0.997   -2.02e-08    2.03e-08\n",
      "company_location_US                                 4.366e-11   7.86e-09      0.006      0.996   -1.54e-08    1.55e-08\n",
      "company_location_VN                                  2.91e-11   2.47e-08      0.001      0.999   -4.85e-08    4.85e-08\n",
      "company_size_M                                      2.819e-11   2.15e-09      0.013      0.990    -4.2e-09    4.25e-09\n",
      "company_size_S                                     -1.091e-11   3.14e-09     -0.003      0.997   -6.19e-09    6.17e-09\n",
      "==============================================================================\n",
      "Omnibus:                       70.087   Durbin-Watson:                   0.006\n",
      "Prob(Omnibus):                  0.000   Jarque-Bera (JB):               65.007\n",
      "Skew:                          -0.730   Prob(JB):                     7.66e-15\n",
      "Kurtosis:                       2.336   Cond. No.                     2.38e+22\n",
      "==============================================================================\n",
      "\n",
      "Notes:\n",
      "[1] Standard Errors assume that the covariance matrix of the errors is correctly specified.\n",
      "[2] The smallest eigenvalue is 2.66e-30. This might indicate that there are\n",
      "strong multicollinearity problems or that the design matrix is singular.\n"
     ]
    }
   ],
   "source": [
    "print(model.summary())"
   ]
  },
  {
   "cell_type": "code",
   "execution_count": null,
   "metadata": {},
   "outputs": [],
   "source": []
  }
 ],
 "metadata": {
  "kernelspec": {
   "display_name": "tangerine-nb-kernel",
   "language": "python",
   "name": "tangerine-nb-kernel"
  },
  "language_info": {
   "codemirror_mode": {
    "name": "ipython",
    "version": 3
   },
   "file_extension": ".py",
   "mimetype": "text/x-python",
   "name": "python",
   "nbconvert_exporter": "python",
   "pygments_lexer": "ipython3",
   "version": "3.11.4"
  }
 },
 "nbformat": 4,
 "nbformat_minor": 4
}
