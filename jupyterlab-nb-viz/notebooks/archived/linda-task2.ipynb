{
 "cells": [
  {
   "cell_type": "code",
   "execution_count": 1,
   "id": "1d2e2661-b01a-432b-8543-aecce2690326",
   "metadata": {
    "tags": []
   },
   "outputs": [],
   "source": [
    "import pandas as pd\n",
    "import seaborn as sns\n",
    "import plotly.express as px\n",
    "import matplotlib.pyplot as plt\n",
    "df = pd.read_csv('datasets/2-ds-job-salaries.csv')"
   ]
  },
  {
   "cell_type": "code",
   "execution_count": 13,
   "id": "86ba357b-d0c0-428e-856f-c6954ed070e3",
   "metadata": {
    "tags": []
   },
   "outputs": [],
   "source": [
    "df = df.drop('Unnamed: 0',axis=1)"
   ]
  },
  {
   "cell_type": "code",
   "execution_count": 14,
   "id": "1013619f-9342-4a5b-ba86-ccdaf2e4a564",
   "metadata": {},
   "outputs": [
    {
     "data": {
      "text/html": [
       "<div>\n",
       "<style scoped>\n",
       "    .dataframe tbody tr th:only-of-type {\n",
       "        vertical-align: middle;\n",
       "    }\n",
       "\n",
       "    .dataframe tbody tr th {\n",
       "        vertical-align: top;\n",
       "    }\n",
       "\n",
       "    .dataframe thead th {\n",
       "        text-align: right;\n",
       "    }\n",
       "</style>\n",
       "<table border=\"1\" class=\"dataframe\">\n",
       "  <thead>\n",
       "    <tr style=\"text-align: right;\">\n",
       "      <th></th>\n",
       "      <th>work_year</th>\n",
       "      <th>experience_level</th>\n",
       "      <th>employment_type</th>\n",
       "      <th>job_title</th>\n",
       "      <th>salary</th>\n",
       "      <th>salary_currency</th>\n",
       "      <th>salary_in_usd</th>\n",
       "      <th>employee_residence</th>\n",
       "      <th>remote_ratio</th>\n",
       "      <th>company_location</th>\n",
       "      <th>company_size</th>\n",
       "    </tr>\n",
       "  </thead>\n",
       "  <tbody>\n",
       "    <tr>\n",
       "      <th>0</th>\n",
       "      <td>2020</td>\n",
       "      <td>MI</td>\n",
       "      <td>FT</td>\n",
       "      <td>Data Scientist</td>\n",
       "      <td>70000</td>\n",
       "      <td>EUR</td>\n",
       "      <td>79833</td>\n",
       "      <td>DE</td>\n",
       "      <td>0</td>\n",
       "      <td>DE</td>\n",
       "      <td>L</td>\n",
       "    </tr>\n",
       "    <tr>\n",
       "      <th>1</th>\n",
       "      <td>2020</td>\n",
       "      <td>SE</td>\n",
       "      <td>FT</td>\n",
       "      <td>Machine Learning Scientist</td>\n",
       "      <td>260000</td>\n",
       "      <td>USD</td>\n",
       "      <td>260000</td>\n",
       "      <td>JP</td>\n",
       "      <td>0</td>\n",
       "      <td>JP</td>\n",
       "      <td>S</td>\n",
       "    </tr>\n",
       "    <tr>\n",
       "      <th>2</th>\n",
       "      <td>2020</td>\n",
       "      <td>SE</td>\n",
       "      <td>FT</td>\n",
       "      <td>Big Data Engineer</td>\n",
       "      <td>85000</td>\n",
       "      <td>GBP</td>\n",
       "      <td>109024</td>\n",
       "      <td>GB</td>\n",
       "      <td>50</td>\n",
       "      <td>GB</td>\n",
       "      <td>M</td>\n",
       "    </tr>\n",
       "    <tr>\n",
       "      <th>3</th>\n",
       "      <td>2020</td>\n",
       "      <td>MI</td>\n",
       "      <td>FT</td>\n",
       "      <td>Product Data Analyst</td>\n",
       "      <td>20000</td>\n",
       "      <td>USD</td>\n",
       "      <td>20000</td>\n",
       "      <td>HN</td>\n",
       "      <td>0</td>\n",
       "      <td>HN</td>\n",
       "      <td>S</td>\n",
       "    </tr>\n",
       "    <tr>\n",
       "      <th>4</th>\n",
       "      <td>2020</td>\n",
       "      <td>SE</td>\n",
       "      <td>FT</td>\n",
       "      <td>Machine Learning Engineer</td>\n",
       "      <td>150000</td>\n",
       "      <td>USD</td>\n",
       "      <td>150000</td>\n",
       "      <td>US</td>\n",
       "      <td>50</td>\n",
       "      <td>US</td>\n",
       "      <td>L</td>\n",
       "    </tr>\n",
       "  </tbody>\n",
       "</table>\n",
       "</div>"
      ],
      "text/plain": [
       "   work_year experience_level employment_type                   job_title  \\\n",
       "0       2020               MI              FT              Data Scientist   \n",
       "1       2020               SE              FT  Machine Learning Scientist   \n",
       "2       2020               SE              FT           Big Data Engineer   \n",
       "3       2020               MI              FT        Product Data Analyst   \n",
       "4       2020               SE              FT   Machine Learning Engineer   \n",
       "\n",
       "   salary salary_currency  salary_in_usd employee_residence  remote_ratio  \\\n",
       "0   70000             EUR          79833                 DE             0   \n",
       "1  260000             USD         260000                 JP             0   \n",
       "2   85000             GBP         109024                 GB            50   \n",
       "3   20000             USD          20000                 HN             0   \n",
       "4  150000             USD         150000                 US            50   \n",
       "\n",
       "  company_location company_size  \n",
       "0               DE            L  \n",
       "1               JP            S  \n",
       "2               GB            M  \n",
       "3               HN            S  \n",
       "4               US            L  "
      ]
     },
     "execution_count": 14,
     "metadata": {},
     "output_type": "execute_result"
    }
   ],
   "source": [
    "df.head()"
   ]
  },
  {
   "cell_type": "code",
   "execution_count": 5,
   "id": "bc00fd66-858a-4a45-a1f0-daed22243894",
   "metadata": {
    "tags": []
   },
   "outputs": [
    {
     "data": {
      "text/html": [
       "<div>\n",
       "<style scoped>\n",
       "    .dataframe tbody tr th:only-of-type {\n",
       "        vertical-align: middle;\n",
       "    }\n",
       "\n",
       "    .dataframe tbody tr th {\n",
       "        vertical-align: top;\n",
       "    }\n",
       "\n",
       "    .dataframe thead th {\n",
       "        text-align: right;\n",
       "    }\n",
       "</style>\n",
       "<table border=\"1\" class=\"dataframe\">\n",
       "  <thead>\n",
       "    <tr style=\"text-align: right;\">\n",
       "      <th></th>\n",
       "      <th>Unnamed: 0</th>\n",
       "      <th>work_year</th>\n",
       "      <th>salary</th>\n",
       "      <th>salary_in_usd</th>\n",
       "      <th>remote_ratio</th>\n",
       "    </tr>\n",
       "  </thead>\n",
       "  <tbody>\n",
       "    <tr>\n",
       "      <th>count</th>\n",
       "      <td>607.000000</td>\n",
       "      <td>607.000000</td>\n",
       "      <td>6.070000e+02</td>\n",
       "      <td>607.000000</td>\n",
       "      <td>607.00000</td>\n",
       "    </tr>\n",
       "    <tr>\n",
       "      <th>mean</th>\n",
       "      <td>303.000000</td>\n",
       "      <td>2021.405272</td>\n",
       "      <td>3.240001e+05</td>\n",
       "      <td>112297.869852</td>\n",
       "      <td>70.92257</td>\n",
       "    </tr>\n",
       "    <tr>\n",
       "      <th>std</th>\n",
       "      <td>175.370085</td>\n",
       "      <td>0.692133</td>\n",
       "      <td>1.544357e+06</td>\n",
       "      <td>70957.259411</td>\n",
       "      <td>40.70913</td>\n",
       "    </tr>\n",
       "    <tr>\n",
       "      <th>min</th>\n",
       "      <td>0.000000</td>\n",
       "      <td>2020.000000</td>\n",
       "      <td>4.000000e+03</td>\n",
       "      <td>2859.000000</td>\n",
       "      <td>0.00000</td>\n",
       "    </tr>\n",
       "    <tr>\n",
       "      <th>25%</th>\n",
       "      <td>151.500000</td>\n",
       "      <td>2021.000000</td>\n",
       "      <td>7.000000e+04</td>\n",
       "      <td>62726.000000</td>\n",
       "      <td>50.00000</td>\n",
       "    </tr>\n",
       "    <tr>\n",
       "      <th>50%</th>\n",
       "      <td>303.000000</td>\n",
       "      <td>2022.000000</td>\n",
       "      <td>1.150000e+05</td>\n",
       "      <td>101570.000000</td>\n",
       "      <td>100.00000</td>\n",
       "    </tr>\n",
       "    <tr>\n",
       "      <th>75%</th>\n",
       "      <td>454.500000</td>\n",
       "      <td>2022.000000</td>\n",
       "      <td>1.650000e+05</td>\n",
       "      <td>150000.000000</td>\n",
       "      <td>100.00000</td>\n",
       "    </tr>\n",
       "    <tr>\n",
       "      <th>max</th>\n",
       "      <td>606.000000</td>\n",
       "      <td>2022.000000</td>\n",
       "      <td>3.040000e+07</td>\n",
       "      <td>600000.000000</td>\n",
       "      <td>100.00000</td>\n",
       "    </tr>\n",
       "  </tbody>\n",
       "</table>\n",
       "</div>"
      ],
      "text/plain": [
       "       Unnamed: 0    work_year        salary  salary_in_usd  remote_ratio\n",
       "count  607.000000   607.000000  6.070000e+02     607.000000     607.00000\n",
       "mean   303.000000  2021.405272  3.240001e+05  112297.869852      70.92257\n",
       "std    175.370085     0.692133  1.544357e+06   70957.259411      40.70913\n",
       "min      0.000000  2020.000000  4.000000e+03    2859.000000       0.00000\n",
       "25%    151.500000  2021.000000  7.000000e+04   62726.000000      50.00000\n",
       "50%    303.000000  2022.000000  1.150000e+05  101570.000000     100.00000\n",
       "75%    454.500000  2022.000000  1.650000e+05  150000.000000     100.00000\n",
       "max    606.000000  2022.000000  3.040000e+07  600000.000000     100.00000"
      ]
     },
     "execution_count": 5,
     "metadata": {},
     "output_type": "execute_result"
    }
   ],
   "source": [
    "df.describe()"
   ]
  },
  {
   "cell_type": "code",
   "execution_count": 15,
   "id": "c8a595a8-5a01-4e7d-9297-c7b79242fa0a",
   "metadata": {
    "tags": []
   },
   "outputs": [],
   "source": [
    "X = df.drop('salary',axis=1)\n",
    "Y = df['salary']"
   ]
  },
  {
   "cell_type": "code",
   "execution_count": 17,
   "id": "45775955-06cf-4f03-800f-ddb3cc7ac86e",
   "metadata": {
    "tags": []
   },
   "outputs": [],
   "source": [
    "X_1 = pd.get_dummies(data=X, drop_first=True)"
   ]
  },
  {
   "cell_type": "code",
   "execution_count": 27,
   "id": "fb696aaf-6abd-45b9-8a31-a141a4809fee",
   "metadata": {
    "tags": []
   },
   "outputs": [
    {
     "data": {
      "text/plain": [
       "<Axes: xlabel='work_year', ylabel='salary'>"
      ]
     },
     "execution_count": 27,
     "metadata": {},
     "output_type": "execute_result"
    },
    {
     "data": {
      "image/png": "[encoded data removed]",
      "text/plain": [
       "<Figure size 640x480 with 1 Axes>"
      ]
     },
     "metadata": {},
     "output_type": "display_data"
    }
   ],
   "source": [
    "sns.boxplot(df,x=df['work_year'],y=df['salary'])"
   ]
  },
  {
   "cell_type": "code",
   "execution_count": 28,
   "id": "e6a1fcaa-ba7f-4f16-a93b-cc8021a931a3",
   "metadata": {
    "tags": []
   },
   "outputs": [],
   "source": [
    "from sklearn.linear_model import LinearRegression"
   ]
  },
  {
   "cell_type": "code",
   "execution_count": 29,
   "id": "f14390c3-b495-456a-9104-46b306e87323",
   "metadata": {
    "tags": []
   },
   "outputs": [],
   "source": [
    "model = LinearRegression().fit(X_1,Y)"
   ]
  },
  {
   "cell_type": "code",
   "execution_count": 31,
   "id": "ec588b08-02bf-42a4-90fb-d3cbe3009895",
   "metadata": {
    "tags": []
   },
   "outputs": [
    {
     "data": {
      "text/plain": [
       "0.9663414739736668"
      ]
     },
     "execution_count": 31,
     "metadata": {},
     "output_type": "execute_result"
    }
   ],
   "source": [
    "model.score(X_1,Y)"
   ]
  },
  {
   "cell_type": "code",
   "execution_count": 32,
   "id": "b6137898-a91e-417e-b6df-268886e99169",
   "metadata": {
    "tags": []
   },
   "outputs": [
    {
     "data": {
      "text/plain": [
       "-26978411.802861944"
      ]
     },
     "execution_count": 32,
     "metadata": {},
     "output_type": "execute_result"
    }
   ],
   "source": [
    "model.intercept_"
   ]
  },
  {
   "cell_type": "code",
   "execution_count": 33,
   "id": "b36facf7-b61c-440c-b5ec-8f547fe091c3",
   "metadata": {
    "tags": []
   },
   "outputs": [
    {
     "data": {
      "text/plain": [
       "array([ 1.23751287e+04,  8.63570206e-01, -5.98708903e+02,  1.44393490e+05,\n",
       "        4.79477398e+04,  1.20373089e+05,  5.03587565e+04,  8.48850702e+04,\n",
       "        2.98532872e+04,  1.69762460e+06,  1.63349379e+06,  1.60296483e+06,\n",
       "        1.69581705e+06,  1.74265590e+06,  1.61527684e+06,  1.27677804e+06,\n",
       "        1.49467502e+06,  1.64290959e+06,  1.66536219e+06,  1.68952411e+06,\n",
       "        1.65352724e+06,  1.60738097e+06,  1.60677259e+06,  1.63707528e+06,\n",
       "        1.66638896e+06,  1.63997966e+06,  1.59178867e+06,  1.44450185e+06,\n",
       "        1.58672125e+06,  2.22389795e+06,  1.63502106e+06,  1.58640456e+06,\n",
       "        1.60886042e+06,  1.54544298e+06,  1.57847586e+06,  1.50360303e+06,\n",
       "        1.67665577e+06,  1.62106814e+06,  1.69245030e+06,  5.27251696e+06,\n",
       "        1.38674850e+06,  1.63639979e+06,  1.94823486e+06,  1.56428664e+06,\n",
       "        2.27647239e+06,  1.66210882e+06,  1.74214388e+06,  1.84630872e+06,\n",
       "        1.54457928e+06,  1.68647492e+06,  1.01260892e+06,  1.11605653e+06,\n",
       "        1.74005690e+06,  1.63402987e+06,  1.65144728e+06, -6.33394626e+04,\n",
       "        1.64723805e+06,  1.76314955e+06,  2.55215745e+05,  1.79559241e+05,\n",
       "        5.29860989e+05,  1.02085727e+07,  8.36794998e+05, -1.17123462e+05,\n",
       "        2.34229616e+05, -4.13628472e+03,  5.40174811e+06,  2.18711363e+06,\n",
       "        6.41347394e+06,  2.75438412e+05, -3.37544476e+04,  1.36576340e+05,\n",
       "        1.43862111e+05,  1.50999007e+05, -9.72292946e+04, -1.06136297e+05,\n",
       "        1.49350145e+05, -1.68502618e+04, -7.07659011e+04, -2.41559203e+05,\n",
       "       -4.92338635e+04, -5.08739210e+04,  5.29860989e+05,  1.02085727e+07,\n",
       "       -2.79261533e+05,  6.16050265e+04, -1.12869158e+04, -2.58273910e+04,\n",
       "       -1.17123462e+05,  1.41826166e+05,  1.08519043e+05, -9.24992389e+04,\n",
       "        8.31349162e+04, -8.39200447e+04, -3.20993531e+05,  3.94371447e+04,\n",
       "        9.75379810e+05,  2.36841329e+04,  5.40174811e+06,  1.26577222e+04,\n",
       "       -2.88250912e+05,  1.50866891e+05,  1.02463762e+05, -2.06194898e+05,\n",
       "        1.89029539e+05,  1.17756517e+05,  1.19372068e+05,  4.53129564e+04,\n",
       "        2.98997067e+05, -4.66428979e+03,  2.75438412e+05, -1.22136203e+05,\n",
       "        1.14115859e+05,  1.67522928e+05,  1.11427796e+05,  2.78693991e+04,\n",
       "        1.36234214e+04,  1.44685137e+05, -7.26595102e+04, -6.00406862e+03,\n",
       "       -2.95413862e+05,  1.31422189e+05, -1.75016276e+04,  1.36576340e+05,\n",
       "       -3.64119020e+04,  9.92660507e+04,  1.43862111e+05,  7.95352981e+04,\n",
       "       -1.79918252e+05, -1.65855397e+05, -1.45943282e+05,  1.20920670e+05,\n",
       "        1.49350145e+05, -1.68502618e+04,  1.59082109e+05,  1.87936975e+05,\n",
       "       -8.62328653e+05,  1.02085727e+07, -9.02319947e+04,  6.16050265e+04,\n",
       "        8.79791348e+04,  8.20647857e+04,  8.95485459e+05,  1.41826166e+05,\n",
       "        1.08519043e+05,  1.84461777e+05, -3.03762352e+04,  3.68955730e+05,\n",
       "        4.33943283e+05,  9.75379810e+05,  2.36841329e+04,  4.08377495e+05,\n",
       "        1.26577222e+04,  1.44370925e+05,  5.16923046e+05,  1.50866891e+05,\n",
       "        1.02463762e+05,  3.00070213e+05,  8.51885330e+04,  1.19372068e+05,\n",
       "        1.68006185e+05,  2.98997067e+05, -4.66428979e+03,  1.78209117e+05,\n",
       "        3.25679835e+04,  1.14115859e+05, -1.51160268e+05,  1.11427796e+05,\n",
       "        1.37658253e+05,  2.22689077e+05, -2.50303212e+05,  6.38333014e+05,\n",
       "        3.52197972e+04, -7.79458430e+03, -3.64119020e+04,  1.43862111e+05,\n",
       "        7.95352981e+04,  2.87915016e+05,  3.63818370e+05, -1.00045707e+05,\n",
       "       -1.87871562e+05])"
      ]
     },
     "execution_count": 33,
     "metadata": {},
     "output_type": "execute_result"
    }
   ],
   "source": [
    "model.coef_"
   ]
  },
  {
   "cell_type": "code",
   "execution_count": null,
   "id": "23ea9c8d-b33c-4fe2-9226-af6d4dcf3263",
   "metadata": {},
   "outputs": [],
   "source": []
  }
 ],
 "metadata": {
  "kernelspec": {
   "display_name": "tangerine-nb-kernel",
   "language": "python",
   "name": "tangerine-nb-kernel"
  },
  "language_info": {
   "codemirror_mode": {
    "name": "ipython",
    "version": 3
   },
   "file_extension": ".py",
   "mimetype": "text/x-python",
   "name": "python",
   "nbconvert_exporter": "python",
   "pygments_lexer": "ipython3",
   "version": "3.11.4"
  }
 },
 "nbformat": 4,
 "nbformat_minor": 5
}
